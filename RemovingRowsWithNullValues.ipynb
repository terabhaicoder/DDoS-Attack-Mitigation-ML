{
 "cells": [
  {
   "cell_type": "code",
   "execution_count": null,
   "id": "c08ff6d2-9e5c-4612-b5ba-25fce5e987e2",
   "metadata": {},
   "outputs": [],
   "source": [
    "import pandas as pd\n",
    "file_path = 'you_file_path.csv'\n",
    "\n",
    "# Read CSV in chunks\n",
    "chunk_size = 100000  \n",
    "\n",
    "# Read CSV in chunks with low_memory=False\n",
    "chunks = pd.read_csv(file_path, chunksize=chunk_size, low_memory=False)\n",
    "\n",
    "# Initialize an empty DataFrame to store concatenated chunks\n",
    "df = pd.DataFrame()\n",
    "for chunk in chunks:\n",
    "    df = pd.concat([df, chunk])\n",
    "\n",
    "\n",
    "# Total number of rows in the DataFrame\n",
    "total_rows = len(df)\n",
    "print(\"Total number of rows:\", total_rows)\n",
    "\n",
    "\n",
    "# Get row numbers for null values\n",
    "null_rows = df[df.isnull().any(axis=1)].index.tolist()\n",
    "print(\"Row numbers with null values:\", null_rows)\n"
   ]
  },
  {
   "cell_type": "code",
   "execution_count": null,
   "id": "97576f49-81a1-4dc2-a169-5d6b7fda3d2a",
   "metadata": {},
   "outputs": [],
   "source": [
    "# Remove rows with null values\n",
    "df_cleaned = df.dropna()\n",
    "# Verify removal\n",
    "print(\"Shape before removal:\", df.shape)\n",
    "print(\"Shape after removal of rows with null values:\", df_cleaned.shape)\n",
    "\n",
    "# Check for null values\n",
    "null_values = df_cleaned.isnull().sum().sum()\n",
    "print(\"Total number of null values:\", null_values)\n",
    "\n",
    "# Check for NaN values\n",
    "nan_values = df_cleaned.isna().sum().sum()\n",
    "print(\"Total number of NaN values:\", nan_values)\n",
    "\n",
    "# Check for string values\n",
    "string_values = df_cleaned.apply(lambda x: isinstance(x, str)).sum().sum()\n",
    "print(\"Total number of string values:\", string_values)\n",
    "\n",
    "# Get row numbers for null values\n",
    "null_rows = df_cleaned[df_cleaned.isnull().any(axis=1)].index.tolist()\n",
    "print(\"Row numbers with null values:\", null_rows)\n",
    "\n",
    "# Get row numbers for NaN values\n",
    "nan_rows = df_cleaned[df_cleaned.isna().any(axis=1)].index.tolist()\n",
    "print(\"Row numbers with NaN values:\", nan_rows)\n",
    "\n",
    "# Define the file path to save the cleaned DataFrame\n",
    "output_file_path = 'your_new_file_path(without null).csv'\n",
    "\n",
    "# Save the cleaned DataFrame to a new CSV file\n",
    "df_cleaned.to_csv(output_file_path, index=False)\n",
    "print(\"Cleaned data saved to:\", output_file_path)\n",
    "column_names = df_cleaned.columns.tolist()\n",
    "\n",
    "\n",
    "# Print column names\n",
    "print(\"All column names:\", column_names)"
   ]
  }
 ],
 "metadata": {
  "kernelspec": {
   "display_name": "Python 3 (ipykernel)",
   "language": "python",
   "name": "python3"
  },
  "language_info": {
   "codemirror_mode": {
    "name": "ipython",
    "version": 3
   },
   "file_extension": ".py",
   "mimetype": "text/x-python",
   "name": "python",
   "nbconvert_exporter": "python",
   "pygments_lexer": "ipython3",
   "version": "3.12.2"
  }
 },
 "nbformat": 4,
 "nbformat_minor": 5
}
